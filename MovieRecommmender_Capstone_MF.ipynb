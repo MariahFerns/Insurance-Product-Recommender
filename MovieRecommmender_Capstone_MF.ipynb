{
 "cells": [
  {
   "cell_type": "markdown",
   "id": "a7ab52db",
   "metadata": {},
   "source": [
    "## Import libraries and load dataset "
   ]
  },
  {
   "cell_type": "markdown",
   "id": "f432ea96",
   "metadata": {},
   "source": [
    "### Import required libraries"
   ]
  },
  {
   "cell_type": "code",
   "execution_count": 1,
   "id": "f44e9e6f",
   "metadata": {},
   "outputs": [],
   "source": [
    "import numpy as np\n",
    "import pandas as pd\n",
    "import matplotlib.pyplot as plt\n",
    "import seaborn as sns\n",
    "import scipy.stats as stats\n",
    "from tabulate import tabulate\n",
    "import warnings\n",
    "warnings.filterwarnings('ignore')"
   ]
  },
  {
   "cell_type": "markdown",
   "id": "d60dc9e1",
   "metadata": {},
   "source": [
    "### Load given dataset"
   ]
  },
  {
   "cell_type": "code",
   "execution_count": 2,
   "id": "440efe7f",
   "metadata": {},
   "outputs": [
    {
     "data": {
      "text/html": [
       "<div>\n",
       "<style scoped>\n",
       "    .dataframe tbody tr th:only-of-type {\n",
       "        vertical-align: middle;\n",
       "    }\n",
       "\n",
       "    .dataframe tbody tr th {\n",
       "        vertical-align: top;\n",
       "    }\n",
       "\n",
       "    .dataframe thead th {\n",
       "        text-align: right;\n",
       "    }\n",
       "</style>\n",
       "<table border=\"1\" class=\"dataframe\">\n",
       "  <thead>\n",
       "    <tr style=\"text-align: right;\">\n",
       "      <th></th>\n",
       "      <th>movieId</th>\n",
       "      <th>title</th>\n",
       "      <th>genres</th>\n",
       "    </tr>\n",
       "  </thead>\n",
       "  <tbody>\n",
       "    <tr>\n",
       "      <th>0</th>\n",
       "      <td>1</td>\n",
       "      <td>Toy Story (1995)</td>\n",
       "      <td>Adventure|Animation|Children|Comedy|Fantasy</td>\n",
       "    </tr>\n",
       "    <tr>\n",
       "      <th>1</th>\n",
       "      <td>2</td>\n",
       "      <td>Jumanji (1995)</td>\n",
       "      <td>Adventure|Children|Fantasy</td>\n",
       "    </tr>\n",
       "    <tr>\n",
       "      <th>2</th>\n",
       "      <td>3</td>\n",
       "      <td>Grumpier Old Men (1995)</td>\n",
       "      <td>Comedy|Romance</td>\n",
       "    </tr>\n",
       "    <tr>\n",
       "      <th>3</th>\n",
       "      <td>4</td>\n",
       "      <td>Waiting to Exhale (1995)</td>\n",
       "      <td>Comedy|Drama|Romance</td>\n",
       "    </tr>\n",
       "    <tr>\n",
       "      <th>4</th>\n",
       "      <td>5</td>\n",
       "      <td>Father of the Bride Part II (1995)</td>\n",
       "      <td>Comedy</td>\n",
       "    </tr>\n",
       "  </tbody>\n",
       "</table>\n",
       "</div>"
      ],
      "text/plain": [
       "   movieId                               title  \\\n",
       "0        1                    Toy Story (1995)   \n",
       "1        2                      Jumanji (1995)   \n",
       "2        3             Grumpier Old Men (1995)   \n",
       "3        4            Waiting to Exhale (1995)   \n",
       "4        5  Father of the Bride Part II (1995)   \n",
       "\n",
       "                                        genres  \n",
       "0  Adventure|Animation|Children|Comedy|Fantasy  \n",
       "1                   Adventure|Children|Fantasy  \n",
       "2                               Comedy|Romance  \n",
       "3                         Comedy|Drama|Romance  \n",
       "4                                       Comedy  "
      ]
     },
     "execution_count": 2,
     "metadata": {},
     "output_type": "execute_result"
    }
   ],
   "source": [
    "movies = pd.read_csv(r'movies.csv')\n",
    "ratings = pd.read_csv(r'ratings.csv')\n",
    "\n",
    "movies.head()"
   ]
  },
  {
   "cell_type": "code",
   "execution_count": 3,
   "id": "fcad5b6a",
   "metadata": {},
   "outputs": [
    {
     "data": {
      "text/html": [
       "<div>\n",
       "<style scoped>\n",
       "    .dataframe tbody tr th:only-of-type {\n",
       "        vertical-align: middle;\n",
       "    }\n",
       "\n",
       "    .dataframe tbody tr th {\n",
       "        vertical-align: top;\n",
       "    }\n",
       "\n",
       "    .dataframe thead th {\n",
       "        text-align: right;\n",
       "    }\n",
       "</style>\n",
       "<table border=\"1\" class=\"dataframe\">\n",
       "  <thead>\n",
       "    <tr style=\"text-align: right;\">\n",
       "      <th></th>\n",
       "      <th>userId</th>\n",
       "      <th>movieId</th>\n",
       "      <th>rating</th>\n",
       "      <th>timestamp</th>\n",
       "    </tr>\n",
       "  </thead>\n",
       "  <tbody>\n",
       "    <tr>\n",
       "      <th>0</th>\n",
       "      <td>1</td>\n",
       "      <td>16</td>\n",
       "      <td>4.0</td>\n",
       "      <td>1217897793</td>\n",
       "    </tr>\n",
       "    <tr>\n",
       "      <th>1</th>\n",
       "      <td>1</td>\n",
       "      <td>24</td>\n",
       "      <td>1.5</td>\n",
       "      <td>1217895807</td>\n",
       "    </tr>\n",
       "    <tr>\n",
       "      <th>2</th>\n",
       "      <td>1</td>\n",
       "      <td>32</td>\n",
       "      <td>4.0</td>\n",
       "      <td>1217896246</td>\n",
       "    </tr>\n",
       "    <tr>\n",
       "      <th>3</th>\n",
       "      <td>1</td>\n",
       "      <td>47</td>\n",
       "      <td>4.0</td>\n",
       "      <td>1217896556</td>\n",
       "    </tr>\n",
       "    <tr>\n",
       "      <th>4</th>\n",
       "      <td>1</td>\n",
       "      <td>50</td>\n",
       "      <td>4.0</td>\n",
       "      <td>1217896523</td>\n",
       "    </tr>\n",
       "  </tbody>\n",
       "</table>\n",
       "</div>"
      ],
      "text/plain": [
       "   userId  movieId  rating   timestamp\n",
       "0       1       16     4.0  1217897793\n",
       "1       1       24     1.5  1217895807\n",
       "2       1       32     4.0  1217896246\n",
       "3       1       47     4.0  1217896556\n",
       "4       1       50     4.0  1217896523"
      ]
     },
     "execution_count": 3,
     "metadata": {},
     "output_type": "execute_result"
    }
   ],
   "source": [
    "ratings.head()"
   ]
  },
  {
   "cell_type": "markdown",
   "id": "49836d63",
   "metadata": {},
   "source": [
    "### Check data shape, columns and data types"
   ]
  },
  {
   "cell_type": "code",
   "execution_count": 4,
   "id": "87225eb3",
   "metadata": {},
   "outputs": [
    {
     "name": "stdout",
     "output_type": "stream",
     "text": [
      "<class 'pandas.core.frame.DataFrame'>\n",
      "RangeIndex: 10329 entries, 0 to 10328\n",
      "Data columns (total 3 columns):\n",
      " #   Column   Non-Null Count  Dtype \n",
      "---  ------   --------------  ----- \n",
      " 0   movieId  10329 non-null  int64 \n",
      " 1   title    10329 non-null  object\n",
      " 2   genres   10329 non-null  object\n",
      "dtypes: int64(1), object(2)\n",
      "memory usage: 1.6 MB\n"
     ]
    }
   ],
   "source": [
    "movies.info(memory_usage='deep')"
   ]
  },
  {
   "cell_type": "markdown",
   "id": "72603a57",
   "metadata": {},
   "source": [
    "The Movies dataset has:\n",
    "- 3 features (2 categorical, 1 numerical)\n",
    "- 10329 observations\n",
    "- Dataset fits in 1.6 MB"
   ]
  },
  {
   "cell_type": "code",
   "execution_count": 5,
   "id": "e3ba8a94",
   "metadata": {},
   "outputs": [
    {
     "name": "stdout",
     "output_type": "stream",
     "text": [
      "<class 'pandas.core.frame.DataFrame'>\n",
      "RangeIndex: 105339 entries, 0 to 105338\n",
      "Data columns (total 4 columns):\n",
      " #   Column     Non-Null Count   Dtype  \n",
      "---  ------     --------------   -----  \n",
      " 0   userId     105339 non-null  int64  \n",
      " 1   movieId    105339 non-null  int64  \n",
      " 2   rating     105339 non-null  float64\n",
      " 3   timestamp  105339 non-null  int64  \n",
      "dtypes: float64(1), int64(3)\n",
      "memory usage: 3.2 MB\n"
     ]
    }
   ],
   "source": [
    "ratings.info(memory_usage='deep')"
   ]
  },
  {
   "cell_type": "markdown",
   "id": "197f7525",
   "metadata": {},
   "source": [
    "The Ratings dataset has:\n",
    "- 4 features (4 numerical)\n",
    "- 105339 observations\n",
    "- Dataset fits in 3.2 MB"
   ]
  },
  {
   "cell_type": "markdown",
   "id": "e09fc837",
   "metadata": {},
   "source": [
    "### Check for missing values"
   ]
  },
  {
   "cell_type": "code",
   "execution_count": 6,
   "id": "8ace06ac",
   "metadata": {},
   "outputs": [
    {
     "data": {
      "text/plain": [
       "movieId    0.0\n",
       "title      0.0\n",
       "genres     0.0\n",
       "dtype: float64"
      ]
     },
     "execution_count": 6,
     "metadata": {},
     "output_type": "execute_result"
    }
   ],
   "source": [
    "movies.isnull().mean().sort_values(ascending=False)"
   ]
  },
  {
   "cell_type": "code",
   "execution_count": 7,
   "id": "51b02c06",
   "metadata": {},
   "outputs": [
    {
     "data": {
      "text/plain": [
       "userId       0.0\n",
       "movieId      0.0\n",
       "rating       0.0\n",
       "timestamp    0.0\n",
       "dtype: float64"
      ]
     },
     "execution_count": 7,
     "metadata": {},
     "output_type": "execute_result"
    }
   ],
   "source": [
    "ratings.isnull().mean().sort_values(ascending=False)"
   ]
  },
  {
   "cell_type": "markdown",
   "id": "7fae3ef3",
   "metadata": {},
   "source": [
    "- No missing values in both datasets"
   ]
  },
  {
   "cell_type": "markdown",
   "id": "d8193ca6",
   "metadata": {},
   "source": [
    "### Splitting movie  title into year and title"
   ]
  },
  {
   "cell_type": "code",
   "execution_count": 8,
   "id": "6b3bcf89",
   "metadata": {},
   "outputs": [
    {
     "data": {
      "text/html": [
       "<div>\n",
       "<style scoped>\n",
       "    .dataframe tbody tr th:only-of-type {\n",
       "        vertical-align: middle;\n",
       "    }\n",
       "\n",
       "    .dataframe tbody tr th {\n",
       "        vertical-align: top;\n",
       "    }\n",
       "\n",
       "    .dataframe thead th {\n",
       "        text-align: right;\n",
       "    }\n",
       "</style>\n",
       "<table border=\"1\" class=\"dataframe\">\n",
       "  <thead>\n",
       "    <tr style=\"text-align: right;\">\n",
       "      <th></th>\n",
       "      <th>movieId</th>\n",
       "      <th>title</th>\n",
       "      <th>year</th>\n",
       "      <th>genres</th>\n",
       "    </tr>\n",
       "  </thead>\n",
       "  <tbody>\n",
       "    <tr>\n",
       "      <th>0</th>\n",
       "      <td>1</td>\n",
       "      <td>Toy Story</td>\n",
       "      <td>1995</td>\n",
       "      <td>Adventure|Animation|Children|Comedy|Fantasy</td>\n",
       "    </tr>\n",
       "    <tr>\n",
       "      <th>1</th>\n",
       "      <td>2</td>\n",
       "      <td>Jumanji</td>\n",
       "      <td>1995</td>\n",
       "      <td>Adventure|Children|Fantasy</td>\n",
       "    </tr>\n",
       "    <tr>\n",
       "      <th>2</th>\n",
       "      <td>3</td>\n",
       "      <td>Grumpier Old Men</td>\n",
       "      <td>1995</td>\n",
       "      <td>Comedy|Romance</td>\n",
       "    </tr>\n",
       "    <tr>\n",
       "      <th>3</th>\n",
       "      <td>4</td>\n",
       "      <td>Waiting to Exhale</td>\n",
       "      <td>1995</td>\n",
       "      <td>Comedy|Drama|Romance</td>\n",
       "    </tr>\n",
       "    <tr>\n",
       "      <th>4</th>\n",
       "      <td>5</td>\n",
       "      <td>Father of the Bride Part II</td>\n",
       "      <td>1995</td>\n",
       "      <td>Comedy</td>\n",
       "    </tr>\n",
       "  </tbody>\n",
       "</table>\n",
       "</div>"
      ],
      "text/plain": [
       "   movieId                        title  year  \\\n",
       "0        1                    Toy Story  1995   \n",
       "1        2                      Jumanji  1995   \n",
       "2        3             Grumpier Old Men  1995   \n",
       "3        4            Waiting to Exhale  1995   \n",
       "4        5  Father of the Bride Part II  1995   \n",
       "\n",
       "                                        genres  \n",
       "0  Adventure|Animation|Children|Comedy|Fantasy  \n",
       "1                   Adventure|Children|Fantasy  \n",
       "2                               Comedy|Romance  \n",
       "3                         Comedy|Drama|Romance  \n",
       "4                                       Comedy  "
      ]
     },
     "execution_count": 8,
     "metadata": {},
     "output_type": "execute_result"
    }
   ],
   "source": [
    "movies['year'] = movies['title'].str[-5:-1]\n",
    "movies['title'] = movies['title'].str[:-7]\n",
    "\n",
    "movies = movies[['movieId','title','year','genres']]\n",
    "movies.head()"
   ]
  },
  {
   "cell_type": "markdown",
   "id": "7f3360d4",
   "metadata": {},
   "source": [
    "### Creating combined dataset of Movies and Ratings"
   ]
  },
  {
   "cell_type": "code",
   "execution_count": 9,
   "id": "3d361078",
   "metadata": {},
   "outputs": [
    {
     "data": {
      "text/html": [
       "<div>\n",
       "<style scoped>\n",
       "    .dataframe tbody tr th:only-of-type {\n",
       "        vertical-align: middle;\n",
       "    }\n",
       "\n",
       "    .dataframe tbody tr th {\n",
       "        vertical-align: top;\n",
       "    }\n",
       "\n",
       "    .dataframe thead th {\n",
       "        text-align: right;\n",
       "    }\n",
       "</style>\n",
       "<table border=\"1\" class=\"dataframe\">\n",
       "  <thead>\n",
       "    <tr style=\"text-align: right;\">\n",
       "      <th></th>\n",
       "      <th>movieId</th>\n",
       "      <th>title</th>\n",
       "      <th>year</th>\n",
       "      <th>userId</th>\n",
       "      <th>rating</th>\n",
       "      <th>genres</th>\n",
       "    </tr>\n",
       "  </thead>\n",
       "  <tbody>\n",
       "    <tr>\n",
       "      <th>0</th>\n",
       "      <td>16</td>\n",
       "      <td>Casino</td>\n",
       "      <td>1995</td>\n",
       "      <td>1</td>\n",
       "      <td>4.0</td>\n",
       "      <td>Crime|Drama</td>\n",
       "    </tr>\n",
       "    <tr>\n",
       "      <th>1</th>\n",
       "      <td>16</td>\n",
       "      <td>Casino</td>\n",
       "      <td>1995</td>\n",
       "      <td>9</td>\n",
       "      <td>4.0</td>\n",
       "      <td>Crime|Drama</td>\n",
       "    </tr>\n",
       "    <tr>\n",
       "      <th>2</th>\n",
       "      <td>16</td>\n",
       "      <td>Casino</td>\n",
       "      <td>1995</td>\n",
       "      <td>12</td>\n",
       "      <td>1.5</td>\n",
       "      <td>Crime|Drama</td>\n",
       "    </tr>\n",
       "    <tr>\n",
       "      <th>3</th>\n",
       "      <td>16</td>\n",
       "      <td>Casino</td>\n",
       "      <td>1995</td>\n",
       "      <td>24</td>\n",
       "      <td>4.0</td>\n",
       "      <td>Crime|Drama</td>\n",
       "    </tr>\n",
       "    <tr>\n",
       "      <th>4</th>\n",
       "      <td>16</td>\n",
       "      <td>Casino</td>\n",
       "      <td>1995</td>\n",
       "      <td>29</td>\n",
       "      <td>3.0</td>\n",
       "      <td>Crime|Drama</td>\n",
       "    </tr>\n",
       "    <tr>\n",
       "      <th>...</th>\n",
       "      <td>...</td>\n",
       "      <td>...</td>\n",
       "      <td>...</td>\n",
       "      <td>...</td>\n",
       "      <td>...</td>\n",
       "      <td>...</td>\n",
       "    </tr>\n",
       "    <tr>\n",
       "      <th>105334</th>\n",
       "      <td>140098</td>\n",
       "      <td>Runoff</td>\n",
       "      <td>2015</td>\n",
       "      <td>668</td>\n",
       "      <td>2.5</td>\n",
       "      <td>Drama</td>\n",
       "    </tr>\n",
       "    <tr>\n",
       "      <th>105335</th>\n",
       "      <td>140816</td>\n",
       "      <td>Tangerine</td>\n",
       "      <td>2015</td>\n",
       "      <td>668</td>\n",
       "      <td>2.5</td>\n",
       "      <td>Comedy|Drama</td>\n",
       "    </tr>\n",
       "    <tr>\n",
       "      <th>105336</th>\n",
       "      <td>141472</td>\n",
       "      <td>The 50 Year Argument</td>\n",
       "      <td>2014</td>\n",
       "      <td>668</td>\n",
       "      <td>2.5</td>\n",
       "      <td>(no genres listed)</td>\n",
       "    </tr>\n",
       "    <tr>\n",
       "      <th>105337</th>\n",
       "      <td>142488</td>\n",
       "      <td>Spotlight</td>\n",
       "      <td>2015</td>\n",
       "      <td>668</td>\n",
       "      <td>4.0</td>\n",
       "      <td>Thriller</td>\n",
       "    </tr>\n",
       "    <tr>\n",
       "      <th>105338</th>\n",
       "      <td>142507</td>\n",
       "      <td>Pawn Sacrifice</td>\n",
       "      <td>2015</td>\n",
       "      <td>668</td>\n",
       "      <td>3.5</td>\n",
       "      <td>Drama</td>\n",
       "    </tr>\n",
       "  </tbody>\n",
       "</table>\n",
       "<p>105339 rows × 6 columns</p>\n",
       "</div>"
      ],
      "text/plain": [
       "        movieId                 title  year  userId  rating  \\\n",
       "0            16                Casino  1995       1     4.0   \n",
       "1            16                Casino  1995       9     4.0   \n",
       "2            16                Casino  1995      12     1.5   \n",
       "3            16                Casino  1995      24     4.0   \n",
       "4            16                Casino  1995      29     3.0   \n",
       "...         ...                   ...   ...     ...     ...   \n",
       "105334   140098                Runoff  2015     668     2.5   \n",
       "105335   140816             Tangerine  2015     668     2.5   \n",
       "105336   141472  The 50 Year Argument  2014     668     2.5   \n",
       "105337   142488             Spotlight  2015     668     4.0   \n",
       "105338   142507        Pawn Sacrifice  2015     668     3.5   \n",
       "\n",
       "                    genres  \n",
       "0              Crime|Drama  \n",
       "1              Crime|Drama  \n",
       "2              Crime|Drama  \n",
       "3              Crime|Drama  \n",
       "4              Crime|Drama  \n",
       "...                    ...  \n",
       "105334               Drama  \n",
       "105335        Comedy|Drama  \n",
       "105336  (no genres listed)  \n",
       "105337            Thriller  \n",
       "105338               Drama  \n",
       "\n",
       "[105339 rows x 6 columns]"
      ]
     },
     "execution_count": 9,
     "metadata": {},
     "output_type": "execute_result"
    }
   ],
   "source": [
    "# Merge Movies and Ratings\n",
    "MovieRatings = pd.merge(ratings,movies, on='movieId').drop(columns='timestamp')\n",
    "\n",
    "\n",
    "# Changing order of columns to make it easy to read\n",
    "MovieRatings = MovieRatings[['movieId','title','year','userId','rating','genres']]\n",
    "\n",
    "MovieRatings"
   ]
  },
  {
   "cell_type": "markdown",
   "id": "f23e6efd",
   "metadata": {},
   "source": [
    "### Data wrangling to transform pipe separated Genres into individual rows"
   ]
  },
  {
   "cell_type": "code",
   "execution_count": 10,
   "id": "3cd496a3",
   "metadata": {},
   "outputs": [
    {
     "data": {
      "text/html": [
       "<div>\n",
       "<style scoped>\n",
       "    .dataframe tbody tr th:only-of-type {\n",
       "        vertical-align: middle;\n",
       "    }\n",
       "\n",
       "    .dataframe tbody tr th {\n",
       "        vertical-align: top;\n",
       "    }\n",
       "\n",
       "    .dataframe thead th {\n",
       "        text-align: right;\n",
       "    }\n",
       "</style>\n",
       "<table border=\"1\" class=\"dataframe\">\n",
       "  <thead>\n",
       "    <tr style=\"text-align: right;\">\n",
       "      <th></th>\n",
       "      <th>movieId</th>\n",
       "      <th>title</th>\n",
       "      <th>year</th>\n",
       "      <th>userId</th>\n",
       "      <th>rating</th>\n",
       "      <th>Genre</th>\n",
       "    </tr>\n",
       "  </thead>\n",
       "  <tbody>\n",
       "    <tr>\n",
       "      <th>14209</th>\n",
       "      <td>1</td>\n",
       "      <td>Toy Story</td>\n",
       "      <td>1995</td>\n",
       "      <td>2</td>\n",
       "      <td>5.0</td>\n",
       "      <td>Adventure</td>\n",
       "    </tr>\n",
       "    <tr>\n",
       "      <th>14210</th>\n",
       "      <td>1</td>\n",
       "      <td>Toy Story</td>\n",
       "      <td>1995</td>\n",
       "      <td>5</td>\n",
       "      <td>4.0</td>\n",
       "      <td>Adventure</td>\n",
       "    </tr>\n",
       "    <tr>\n",
       "      <th>14211</th>\n",
       "      <td>1</td>\n",
       "      <td>Toy Story</td>\n",
       "      <td>1995</td>\n",
       "      <td>8</td>\n",
       "      <td>5.0</td>\n",
       "      <td>Adventure</td>\n",
       "    </tr>\n",
       "    <tr>\n",
       "      <th>14212</th>\n",
       "      <td>1</td>\n",
       "      <td>Toy Story</td>\n",
       "      <td>1995</td>\n",
       "      <td>11</td>\n",
       "      <td>4.0</td>\n",
       "      <td>Adventure</td>\n",
       "    </tr>\n",
       "    <tr>\n",
       "      <th>14213</th>\n",
       "      <td>1</td>\n",
       "      <td>Toy Story</td>\n",
       "      <td>1995</td>\n",
       "      <td>14</td>\n",
       "      <td>4.0</td>\n",
       "      <td>Adventure</td>\n",
       "    </tr>\n",
       "    <tr>\n",
       "      <th>...</th>\n",
       "      <td>...</td>\n",
       "      <td>...</td>\n",
       "      <td>...</td>\n",
       "      <td>...</td>\n",
       "      <td>...</td>\n",
       "      <td>...</td>\n",
       "    </tr>\n",
       "    <tr>\n",
       "      <th>435792</th>\n",
       "      <td>1</td>\n",
       "      <td>Toy Story</td>\n",
       "      <td>1995</td>\n",
       "      <td>655</td>\n",
       "      <td>4.0</td>\n",
       "      <td>Fantasy</td>\n",
       "    </tr>\n",
       "    <tr>\n",
       "      <th>435793</th>\n",
       "      <td>1</td>\n",
       "      <td>Toy Story</td>\n",
       "      <td>1995</td>\n",
       "      <td>661</td>\n",
       "      <td>4.0</td>\n",
       "      <td>Fantasy</td>\n",
       "    </tr>\n",
       "    <tr>\n",
       "      <th>435794</th>\n",
       "      <td>1</td>\n",
       "      <td>Toy Story</td>\n",
       "      <td>1995</td>\n",
       "      <td>662</td>\n",
       "      <td>5.0</td>\n",
       "      <td>Fantasy</td>\n",
       "    </tr>\n",
       "    <tr>\n",
       "      <th>435795</th>\n",
       "      <td>1</td>\n",
       "      <td>Toy Story</td>\n",
       "      <td>1995</td>\n",
       "      <td>663</td>\n",
       "      <td>3.0</td>\n",
       "      <td>Fantasy</td>\n",
       "    </tr>\n",
       "    <tr>\n",
       "      <th>435796</th>\n",
       "      <td>1</td>\n",
       "      <td>Toy Story</td>\n",
       "      <td>1995</td>\n",
       "      <td>668</td>\n",
       "      <td>3.0</td>\n",
       "      <td>Fantasy</td>\n",
       "    </tr>\n",
       "  </tbody>\n",
       "</table>\n",
       "<p>1160 rows × 6 columns</p>\n",
       "</div>"
      ],
      "text/plain": [
       "        movieId      title  year  userId  rating      Genre\n",
       "14209         1  Toy Story  1995       2     5.0  Adventure\n",
       "14210         1  Toy Story  1995       5     4.0  Adventure\n",
       "14211         1  Toy Story  1995       8     5.0  Adventure\n",
       "14212         1  Toy Story  1995      11     4.0  Adventure\n",
       "14213         1  Toy Story  1995      14     4.0  Adventure\n",
       "...         ...        ...   ...     ...     ...        ...\n",
       "435792        1  Toy Story  1995     655     4.0    Fantasy\n",
       "435793        1  Toy Story  1995     661     4.0    Fantasy\n",
       "435794        1  Toy Story  1995     662     5.0    Fantasy\n",
       "435795        1  Toy Story  1995     663     3.0    Fantasy\n",
       "435796        1  Toy Story  1995     668     3.0    Fantasy\n",
       "\n",
       "[1160 rows x 6 columns]"
      ]
     },
     "execution_count": 10,
     "metadata": {},
     "output_type": "execute_result"
    }
   ],
   "source": [
    "# Split pipe separated Genres into individual columns\n",
    "genre_columns = MovieRatings['genres'].str.split('|', expand=True )\n",
    "\n",
    "# Concatenate with movies_ratings df \n",
    "MovieRatings_Genre_1 = pd.concat([MovieRatings,genre_columns], axis=1 ).drop(columns='genres')\n",
    "\n",
    "# Unpivot the data\n",
    "MovieRatings_Genre = MovieRatings_Genre_1.melt(id_vars=['movieId','title','year','userId','rating'], value_vars=[0, 1, 2,3,4,5,6,7,8,9], value_name='Genre').dropna().drop(columns='variable')\n",
    "\n",
    "MovieRatings_Genre[(MovieRatings_Genre['movieId']==1)]"
   ]
  },
  {
   "cell_type": "markdown",
   "id": "4fdeca8b",
   "metadata": {},
   "source": [
    "### Average rating and Total movies at Genre-movie level"
   ]
  },
  {
   "cell_type": "code",
   "execution_count": 11,
   "id": "8ba4d2ac",
   "metadata": {},
   "outputs": [],
   "source": [
    "# Create a dataframe that gives Genre & movie wise number of ratings and average rating for each movie\n",
    "\n",
    "# Num Reviews\n",
    "Genre_Movie_summary = pd.DataFrame(MovieRatings_Genre.groupby(['Genre','title'])['userId'].nunique()).rename(columns={'userId':'Num Reviews'})\n",
    "\n",
    "# Average Movie Rating\n",
    "Genre_Movie_summary['Average Movie Rating'] = MovieRatings_Genre.groupby(['Genre','title'])['rating'].mean()\n",
    "\n",
    "Genre_Movie_summary = Genre_Movie_summary.reset_index().rename(columns={'title':'Movie Title'})"
   ]
  },
  {
   "cell_type": "markdown",
   "id": "980ddc3b",
   "metadata": {},
   "source": [
    "## Exploratory Data Analysis"
   ]
  },
  {
   "cell_type": "markdown",
   "id": "18423c89",
   "metadata": {},
   "source": [
    "### Task 1: Understanding of distribution of the features available "
   ]
  },
  {
   "cell_type": "code",
   "execution_count": 12,
   "id": "4639f3ad",
   "metadata": {},
   "outputs": [
    {
     "data": {
      "text/html": [
       "<div>\n",
       "<style scoped>\n",
       "    .dataframe tbody tr th:only-of-type {\n",
       "        vertical-align: middle;\n",
       "    }\n",
       "\n",
       "    .dataframe tbody tr th {\n",
       "        vertical-align: top;\n",
       "    }\n",
       "\n",
       "    .dataframe thead th {\n",
       "        text-align: right;\n",
       "    }\n",
       "</style>\n",
       "<table border=\"1\" class=\"dataframe\">\n",
       "  <thead>\n",
       "    <tr style=\"text-align: right;\">\n",
       "      <th></th>\n",
       "      <th>userId</th>\n",
       "      <th>movieId</th>\n",
       "      <th>rating</th>\n",
       "      <th>timestamp</th>\n",
       "    </tr>\n",
       "  </thead>\n",
       "  <tbody>\n",
       "    <tr>\n",
       "      <th>count</th>\n",
       "      <td>105339.000000</td>\n",
       "      <td>105339.000000</td>\n",
       "      <td>105339.000000</td>\n",
       "      <td>1.053390e+05</td>\n",
       "    </tr>\n",
       "    <tr>\n",
       "      <th>mean</th>\n",
       "      <td>364.924539</td>\n",
       "      <td>13381.312477</td>\n",
       "      <td>3.516850</td>\n",
       "      <td>1.130424e+09</td>\n",
       "    </tr>\n",
       "    <tr>\n",
       "      <th>std</th>\n",
       "      <td>197.486905</td>\n",
       "      <td>26170.456869</td>\n",
       "      <td>1.044872</td>\n",
       "      <td>1.802660e+08</td>\n",
       "    </tr>\n",
       "    <tr>\n",
       "      <th>min</th>\n",
       "      <td>1.000000</td>\n",
       "      <td>1.000000</td>\n",
       "      <td>0.500000</td>\n",
       "      <td>8.285650e+08</td>\n",
       "    </tr>\n",
       "    <tr>\n",
       "      <th>25%</th>\n",
       "      <td>192.000000</td>\n",
       "      <td>1073.000000</td>\n",
       "      <td>3.000000</td>\n",
       "      <td>9.711008e+08</td>\n",
       "    </tr>\n",
       "    <tr>\n",
       "      <th>50%</th>\n",
       "      <td>383.000000</td>\n",
       "      <td>2497.000000</td>\n",
       "      <td>3.500000</td>\n",
       "      <td>1.115154e+09</td>\n",
       "    </tr>\n",
       "    <tr>\n",
       "      <th>75%</th>\n",
       "      <td>557.000000</td>\n",
       "      <td>5991.000000</td>\n",
       "      <td>4.000000</td>\n",
       "      <td>1.275496e+09</td>\n",
       "    </tr>\n",
       "    <tr>\n",
       "      <th>max</th>\n",
       "      <td>668.000000</td>\n",
       "      <td>149532.000000</td>\n",
       "      <td>5.000000</td>\n",
       "      <td>1.452405e+09</td>\n",
       "    </tr>\n",
       "  </tbody>\n",
       "</table>\n",
       "</div>"
      ],
      "text/plain": [
       "              userId        movieId         rating     timestamp\n",
       "count  105339.000000  105339.000000  105339.000000  1.053390e+05\n",
       "mean      364.924539   13381.312477       3.516850  1.130424e+09\n",
       "std       197.486905   26170.456869       1.044872  1.802660e+08\n",
       "min         1.000000       1.000000       0.500000  8.285650e+08\n",
       "25%       192.000000    1073.000000       3.000000  9.711008e+08\n",
       "50%       383.000000    2497.000000       3.500000  1.115154e+09\n",
       "75%       557.000000    5991.000000       4.000000  1.275496e+09\n",
       "max       668.000000  149532.000000       5.000000  1.452405e+09"
      ]
     },
     "execution_count": 12,
     "metadata": {},
     "output_type": "execute_result"
    }
   ],
   "source": [
    "# High level statistics for numerical variables\n",
    "\n",
    "ratings.describe()"
   ]
  },
  {
   "cell_type": "markdown",
   "id": "cd9746f6",
   "metadata": {},
   "source": [
    "- ['userid'] & ['movieId] These are ordinal identifiers. there are 668 users who have rated 149532 movies.\n",
    "- ['rating'] has a normal distribution as mean is almost same as the median. Scale falls within 1 order of magnitude (from 0.5 to 5).\n",
    "- ['timestamp'] This column can be dropped as it is not significant for analysis."
   ]
  },
  {
   "cell_type": "code",
   "execution_count": 13,
   "id": "318b3c18",
   "metadata": {},
   "outputs": [
    {
     "data": {
      "text/html": [
       "<div>\n",
       "<style scoped>\n",
       "    .dataframe tbody tr th:only-of-type {\n",
       "        vertical-align: middle;\n",
       "    }\n",
       "\n",
       "    .dataframe tbody tr th {\n",
       "        vertical-align: top;\n",
       "    }\n",
       "\n",
       "    .dataframe thead th {\n",
       "        text-align: right;\n",
       "    }\n",
       "</style>\n",
       "<table border=\"1\" class=\"dataframe\">\n",
       "  <thead>\n",
       "    <tr style=\"text-align: right;\">\n",
       "      <th></th>\n",
       "      <th>title</th>\n",
       "      <th>year</th>\n",
       "      <th>genres</th>\n",
       "    </tr>\n",
       "  </thead>\n",
       "  <tbody>\n",
       "    <tr>\n",
       "      <th>count</th>\n",
       "      <td>10329</td>\n",
       "      <td>10329</td>\n",
       "      <td>10329</td>\n",
       "    </tr>\n",
       "    <tr>\n",
       "      <th>unique</th>\n",
       "      <td>10011</td>\n",
       "      <td>101</td>\n",
       "      <td>938</td>\n",
       "    </tr>\n",
       "    <tr>\n",
       "      <th>top</th>\n",
       "      <td>Misérables, Les</td>\n",
       "      <td>2009</td>\n",
       "      <td>Drama</td>\n",
       "    </tr>\n",
       "    <tr>\n",
       "      <th>freq</th>\n",
       "      <td>4</td>\n",
       "      <td>374</td>\n",
       "      <td>1385</td>\n",
       "    </tr>\n",
       "  </tbody>\n",
       "</table>\n",
       "</div>"
      ],
      "text/plain": [
       "                  title   year genres\n",
       "count             10329  10329  10329\n",
       "unique            10011    101    938\n",
       "top     Misérables, Les   2009  Drama\n",
       "freq                  4    374   1385"
      ]
     },
     "execution_count": 13,
     "metadata": {},
     "output_type": "execute_result"
    }
   ],
   "source": [
    "movies.describe(include='O')"
   ]
  },
  {
   "cell_type": "markdown",
   "id": "0e65619d",
   "metadata": {},
   "source": [
    "- Majority of the movies were release in 2009\n",
    "- Popular movie genre is Drama"
   ]
  },
  {
   "cell_type": "markdown",
   "id": "2e6944fc",
   "metadata": {},
   "source": [
    "### Understanding Outliers using Boxplots"
   ]
  },
  {
   "cell_type": "code",
   "execution_count": 14,
   "id": "75a390fd",
   "metadata": {},
   "outputs": [
    {
     "data": {
      "image/png": "[encoded data removed]",
      "text/plain": [
       "<Figure size 1000x800 with 6 Axes>"
      ]
     },
     "metadata": {},
     "output_type": "display_data"
    }
   ],
   "source": [
    "# Numerical columns with variance and distribution\n",
    "numerical_features = list(MovieRatings_Genre.select_dtypes(include=['float64', 'int64']).columns)\n",
    "\n",
    "# Generate histograms and boxplots\n",
    "\n",
    "fig, axes = plt.subplots(nrows=len(numerical_features), ncols=2, figsize=(10,8))\n",
    "for i, col in enumerate(numerical_features):\n",
    "    MovieRatings_Genre[col].hist(ax=axes[i, 0], grid=False)\n",
    "    MovieRatings_Genre.boxplot(column=col, ax=axes[i, 1], grid=False, vert=False)\n",
    "\n",
    "plt.tight_layout()\n",
    "plt.show()"
   ]
  },
  {
   "cell_type": "markdown",
   "id": "2a0dc70d",
   "metadata": {},
   "source": [
    "- ['movieId'] and [userid] are ordinal identifiers and can be ignored from our analysis\n",
    "- ['rating'] has 2 outliers that need outlier treatment"
   ]
  },
  {
   "cell_type": "markdown",
   "id": "2992371f",
   "metadata": {},
   "source": [
    "### Task 2: Average rating and Total movies at genre level"
   ]
  },
  {
   "cell_type": "code",
   "execution_count": 15,
   "id": "58db685a",
   "metadata": {},
   "outputs": [
    {
     "data": {
      "text/html": [
       "<div>\n",
       "<style scoped>\n",
       "    .dataframe tbody tr th:only-of-type {\n",
       "        vertical-align: middle;\n",
       "    }\n",
       "\n",
       "    .dataframe tbody tr th {\n",
       "        vertical-align: top;\n",
       "    }\n",
       "\n",
       "    .dataframe thead th {\n",
       "        text-align: right;\n",
       "    }\n",
       "</style>\n",
       "<table border=\"1\" class=\"dataframe\">\n",
       "  <thead>\n",
       "    <tr style=\"text-align: right;\">\n",
       "      <th></th>\n",
       "      <th>Genre</th>\n",
       "      <th>NoOfMovies</th>\n",
       "      <th>NoOfRatings</th>\n",
       "      <th>AvgRating</th>\n",
       "    </tr>\n",
       "  </thead>\n",
       "  <tbody>\n",
       "    <tr>\n",
       "      <th>8</th>\n",
       "      <td>Drama</td>\n",
       "      <td>5218</td>\n",
       "      <td>668</td>\n",
       "      <td>3.650266</td>\n",
       "    </tr>\n",
       "    <tr>\n",
       "      <th>2</th>\n",
       "      <td>Adventure</td>\n",
       "      <td>1164</td>\n",
       "      <td>667</td>\n",
       "      <td>3.518027</td>\n",
       "    </tr>\n",
       "    <tr>\n",
       "      <th>5</th>\n",
       "      <td>Comedy</td>\n",
       "      <td>3513</td>\n",
       "      <td>667</td>\n",
       "      <td>3.420996</td>\n",
       "    </tr>\n",
       "    <tr>\n",
       "      <th>17</th>\n",
       "      <td>Thriller</td>\n",
       "      <td>2187</td>\n",
       "      <td>666</td>\n",
       "      <td>3.495561</td>\n",
       "    </tr>\n",
       "    <tr>\n",
       "      <th>1</th>\n",
       "      <td>Action</td>\n",
       "      <td>1737</td>\n",
       "      <td>666</td>\n",
       "      <td>3.451450</td>\n",
       "    </tr>\n",
       "    <tr>\n",
       "      <th>15</th>\n",
       "      <td>Romance</td>\n",
       "      <td>1788</td>\n",
       "      <td>663</td>\n",
       "      <td>3.544255</td>\n",
       "    </tr>\n",
       "    <tr>\n",
       "      <th>6</th>\n",
       "      <td>Crime</td>\n",
       "      <td>1440</td>\n",
       "      <td>663</td>\n",
       "      <td>3.642392</td>\n",
       "    </tr>\n",
       "    <tr>\n",
       "      <th>16</th>\n",
       "      <td>Sci-Fi</td>\n",
       "      <td>859</td>\n",
       "      <td>659</td>\n",
       "      <td>3.454481</td>\n",
       "    </tr>\n",
       "    <tr>\n",
       "      <th>9</th>\n",
       "      <td>Fantasy</td>\n",
       "      <td>670</td>\n",
       "      <td>645</td>\n",
       "      <td>3.500459</td>\n",
       "    </tr>\n",
       "    <tr>\n",
       "      <th>14</th>\n",
       "      <td>Mystery</td>\n",
       "      <td>675</td>\n",
       "      <td>621</td>\n",
       "      <td>3.652043</td>\n",
       "    </tr>\n",
       "  </tbody>\n",
       "</table>\n",
       "</div>"
      ],
      "text/plain": [
       "        Genre  NoOfMovies  NoOfRatings  AvgRating\n",
       "8       Drama        5218          668   3.650266\n",
       "2   Adventure        1164          667   3.518027\n",
       "5      Comedy        3513          667   3.420996\n",
       "17   Thriller        2187          666   3.495561\n",
       "1      Action        1737          666   3.451450\n",
       "15    Romance        1788          663   3.544255\n",
       "6       Crime        1440          663   3.642392\n",
       "16     Sci-Fi         859          659   3.454481\n",
       "9     Fantasy         670          645   3.500459\n",
       "14    Mystery         675          621   3.652043"
      ]
     },
     "execution_count": 15,
     "metadata": {},
     "output_type": "execute_result"
    }
   ],
   "source": [
    "# Create a dataframe that gives Genre wise number of movies, number of ratings and average rating \n",
    "\n",
    "Genre_summary = pd.DataFrame(MovieRatings_Genre.groupby('Genre')['movieId'].nunique()).rename(columns={'movieId':'NoOfMovies'})\n",
    "Genre_summary['NoOfRatings'] = MovieRatings_Genre.groupby('Genre')['userId'].nunique()\n",
    "Genre_summary['AvgRating'] = MovieRatings_Genre.groupby('Genre')['rating'].mean()\n",
    "Genre_summary = Genre_summary.reset_index().sort_values('NoOfRatings', ascending=False)\n",
    "Genre_summary.head(10)"
   ]
  },
  {
   "cell_type": "markdown",
   "id": "104aaaf7",
   "metadata": {},
   "source": [
    "### Top-rated movie genres with number of movies"
   ]
  },
  {
   "cell_type": "code",
   "execution_count": 16,
   "id": "e60ac3d0",
   "metadata": {},
   "outputs": [
    {
     "data": {
      "image/png": "[encoded data removed]",
      "text/plain": [
       "<Figure size 1200x300 with 1 Axes>"
      ]
     },
     "metadata": {},
     "output_type": "display_data"
    }
   ],
   "source": [
    "plt.figure(figsize=(12,3))\n",
    "plt.bar(list(Genre_summary['Genre']), Genre_summary['NoOfMovies'])\n",
    "plt.xticks(rotation=45)\n",
    "plt.xlabel('Genres')\n",
    "plt.ylabel('Number of Movies')\n",
    "plt.show()"
   ]
  },
  {
   "cell_type": "markdown",
   "id": "a29d0903",
   "metadata": {},
   "source": [
    "- We infer that Drama is the most popular genre with maximum number of movies and ratings\n",
    "- While Adventure is second highest rated Genre, there are more Comedy movies than Adventure movies\n",
    "- There is scope to make more adventure movies as they are being highly rated"
   ]
  },
  {
   "cell_type": "markdown",
   "id": "460c1d56",
   "metadata": {},
   "source": [
    "### Distribution of Number of reviews vs. Movie rating"
   ]
  },
  {
   "cell_type": "code",
   "execution_count": 17,
   "id": "3a440bc9",
   "metadata": {},
   "outputs": [
    {
     "data": {
      "image/png": "[encoded data removed]",
      "text/plain": [
       "<Figure size 640x480 with 1 Axes>"
      ]
     },
     "metadata": {},
     "output_type": "display_data"
    }
   ],
   "source": [
    "sns.scatterplot(data=Genre_Movie_summary,y=\"Num Reviews\", x=\"Average Movie Rating\",  hue=\"Average Movie Rating\", palette='plasma')\n",
    "plt.show()\n"
   ]
  },
  {
   "cell_type": "markdown",
   "id": "fecc0d92",
   "metadata": {},
   "source": [
    "- Seeing the distribution, we can infer that movies that have got higher number of user reviews have also got high rating."
   ]
  },
  {
   "cell_type": "markdown",
   "id": "8079f6c2",
   "metadata": {},
   "source": [
    "### Task 3: Finding unique users and movies "
   ]
  },
  {
   "cell_type": "code",
   "execution_count": 18,
   "id": "2616362e",
   "metadata": {},
   "outputs": [
    {
     "name": "stdout",
     "output_type": "stream",
     "text": [
      "Number of unique users are:  668\n",
      "Number of unique movies are:  10325\n"
     ]
    }
   ],
   "source": [
    "print('Number of unique users are: ', MovieRatings_Genre['userId'].nunique())\n",
    "print('Number of unique movies are: ', MovieRatings_Genre['movieId'].nunique())"
   ]
  },
  {
   "cell_type": "markdown",
   "id": "30741d90",
   "metadata": {},
   "source": [
    "### Task 4: Unique genres considered"
   ]
  },
  {
   "cell_type": "code",
   "execution_count": 19,
   "id": "f62bba7b",
   "metadata": {},
   "outputs": [
    {
     "name": "stdout",
     "output_type": "stream",
     "text": [
      "List of unique genres are:\n"
     ]
    },
    {
     "data": {
      "text/plain": [
       "['Crime',\n",
       " 'Drama',\n",
       " 'Mystery',\n",
       " 'Action',\n",
       " 'Adventure',\n",
       " 'Comedy',\n",
       " 'Thriller',\n",
       " 'Horror',\n",
       " 'Documentary',\n",
       " 'Children',\n",
       " 'Animation',\n",
       " 'Film-Noir',\n",
       " 'Fantasy',\n",
       " 'Sci-Fi',\n",
       " 'Musical',\n",
       " 'Western',\n",
       " 'Romance',\n",
       " 'War',\n",
       " '(no genres listed)',\n",
       " 'IMAX']"
      ]
     },
     "execution_count": 19,
     "metadata": {},
     "output_type": "execute_result"
    }
   ],
   "source": [
    "print('List of unique genres are:')\n",
    "MovieRatings_Genre['Genre'].unique().tolist()"
   ]
  },
  {
   "cell_type": "markdown",
   "id": "94b73560",
   "metadata": {},
   "source": [
    "## Design the 3 different types of recommendation modules"
   ]
  },
  {
   "cell_type": "markdown",
   "id": "91367ed6",
   "metadata": {},
   "source": [
    "### 1. Popularity-based recommender system"
   ]
  },
  {
   "cell_type": "code",
   "execution_count": 20,
   "id": "23930303",
   "metadata": {},
   "outputs": [],
   "source": [
    "def popularity_based_recommendation(genre, minreviews, numrecomm):\n",
    "    g = genre\n",
    "    t = minreviews\n",
    "    N = numrecomm\n",
    "\n",
    "    # Create a subset of movies for Genre and minimum reviews entered by user\n",
    "    Movieset_Popularity_1 = Genre_Movie_summary[(Genre_Movie_summary['Genre']==g) & (Genre_Movie_summary['Num Reviews']>=t)]\n",
    "\n",
    "    # Add S.No to above subset by sorting on avg. movie rating in descending order    \n",
    "    Movieset_Popularity_1['S.No'] = Movieset_Popularity_1.sort_values('Average Movie Rating', ascending=False)\\\n",
    "                        .groupby('Genre')\\\n",
    "                        .cumcount()+1\n",
    "\n",
    "    # Rearrange column order for ease of understanding\n",
    "    Movieset_Popularity_1.drop(columns='Genre')\n",
    "    Movieset_Popularity_1 = Movieset_Popularity_1[['S.No','Movie Title','Average Movie Rating','Num Reviews']]\\\n",
    "                            .rename(columns={'Average Movie Rating':'Avg. Rating'})\n",
    "    # Output dataframe that filters for number of recommendations that the user wants\n",
    "    Movieset_Popularity = Movieset_Popularity_1[Movieset_Popularity_1['S.No']<=N].sort_values('S.No')\n",
    "    \n",
    "    return tabulate(Movieset_Popularity, headers='keys', showindex = 'never', tablefmt = 'simple_outline')"
   ]
  },
  {
   "cell_type": "markdown",
   "id": "abf0ce1c",
   "metadata": {},
   "source": [
    "## 2. Content-based recommender system"
   ]
  },
  {
   "cell_type": "markdown",
   "id": "e73dc83c",
   "metadata": {},
   "source": [
    "### Step 1: Tf-idf Vectorizer"
   ]
  },
  {
   "cell_type": "code",
   "execution_count": 21,
   "id": "01dd330f",
   "metadata": {},
   "outputs": [],
   "source": [
    "# Cleaning up values of Genre before applying TfidfVectorizer\n",
    "\n",
    "movies['genres'] = movies['genres'].str.replace('(no genres listed)','No_Genres_Listed')\n",
    "movies['genres'] = movies['genres'].str.replace('Sci-Fi','Sci_Fi')\n",
    "movies['genres'] = movies['genres'].str.replace('Film-Noir','Film_Noir')"
   ]
  },
  {
   "cell_type": "code",
   "execution_count": 22,
   "id": "d405e468",
   "metadata": {},
   "outputs": [],
   "source": [
    "# Using TfidfVectorizer to find most significant genres for each movie\n",
    "\n",
    "from sklearn.feature_extraction.text import TfidfVectorizer\n",
    "\n",
    "tf = TfidfVectorizer(stop_words='english')\n",
    "\n",
    "tf_matrix = tf.fit_transform(movies['genres'])"
   ]
  },
  {
   "cell_type": "code",
   "execution_count": 23,
   "id": "6c4f4609",
   "metadata": {},
   "outputs": [
    {
     "data": {
      "text/plain": [
       "(10329, 20)"
      ]
     },
     "execution_count": 23,
     "metadata": {},
     "output_type": "execute_result"
    }
   ],
   "source": [
    "# Shape of tfidf matrix output\n",
    "\n",
    "tf_matrix.shape"
   ]
  },
  {
   "cell_type": "code",
   "execution_count": 24,
   "id": "e28bd380",
   "metadata": {},
   "outputs": [
    {
     "data": {
      "text/plain": [
       "array(['action', 'adventure', 'animation', 'children', 'comedy', 'crime',\n",
       "       'documentary', 'drama', 'fantasy', 'film_noir', 'horror', 'imax',\n",
       "       'musical', 'mystery', 'no_genres_listed', 'romance', 'sci_fi',\n",
       "       'thriller', 'war', 'western'], dtype=object)"
      ]
     },
     "execution_count": 24,
     "metadata": {},
     "output_type": "execute_result"
    }
   ],
   "source": [
    "# Column names of tfidf matrix output\n",
    "\n",
    "tf.get_feature_names_out()"
   ]
  },
  {
   "cell_type": "code",
   "execution_count": 25,
   "id": "0229f57d",
   "metadata": {},
   "outputs": [
    {
     "data": {
      "text/plain": [
       "array([[0.        , 0.40410292, 0.53921623, 0.50150636, 0.2638368 ,\n",
       "        0.        , 0.        , 0.        , 0.47416052, 0.        ,\n",
       "        0.        , 0.        , 0.        , 0.        , 0.        ,\n",
       "        0.        , 0.        , 0.        , 0.        , 0.        ]])"
      ]
     },
     "execution_count": 25,
     "metadata": {},
     "output_type": "execute_result"
    }
   ],
   "source": [
    "# Viewing tfidf matrix output for 1st movie\n",
    "\n",
    "tf_matrix[0].toarray()"
   ]
  },
  {
   "cell_type": "markdown",
   "id": "5319f2b5",
   "metadata": {},
   "source": [
    "### Step 2: Cosine similarity"
   ]
  },
  {
   "cell_type": "code",
   "execution_count": 26,
   "id": "acc4bf30",
   "metadata": {},
   "outputs": [
    {
     "data": {
      "text/html": [
       "<div>\n",
       "<style scoped>\n",
       "    .dataframe tbody tr th:only-of-type {\n",
       "        vertical-align: middle;\n",
       "    }\n",
       "\n",
       "    .dataframe tbody tr th {\n",
       "        vertical-align: top;\n",
       "    }\n",
       "\n",
       "    .dataframe thead th {\n",
       "        text-align: right;\n",
       "    }\n",
       "</style>\n",
       "<table border=\"1\" class=\"dataframe\">\n",
       "  <thead>\n",
       "    <tr style=\"text-align: right;\">\n",
       "      <th></th>\n",
       "      <th>0</th>\n",
       "      <th>1</th>\n",
       "      <th>2</th>\n",
       "      <th>3</th>\n",
       "      <th>4</th>\n",
       "      <th>5</th>\n",
       "      <th>6</th>\n",
       "      <th>7</th>\n",
       "      <th>8</th>\n",
       "      <th>9</th>\n",
       "      <th>...</th>\n",
       "      <th>10319</th>\n",
       "      <th>10320</th>\n",
       "      <th>10321</th>\n",
       "      <th>10322</th>\n",
       "      <th>10323</th>\n",
       "      <th>10324</th>\n",
       "      <th>10325</th>\n",
       "      <th>10326</th>\n",
       "      <th>10327</th>\n",
       "      <th>10328</th>\n",
       "    </tr>\n",
       "  </thead>\n",
       "  <tbody>\n",
       "    <tr>\n",
       "      <th>0</th>\n",
       "      <td>0.000000</td>\n",
       "      <td>0.799772</td>\n",
       "      <td>0.158922</td>\n",
       "      <td>0.142838</td>\n",
       "      <td>0.263837</td>\n",
       "      <td>0.0</td>\n",
       "      <td>0.158922</td>\n",
       "      <td>0.644056</td>\n",
       "      <td>0.0</td>\n",
       "      <td>0.260439</td>\n",
       "      <td>...</td>\n",
       "      <td>0.000000</td>\n",
       "      <td>0.00000</td>\n",
       "      <td>0.0</td>\n",
       "      <td>0.205047</td>\n",
       "      <td>0.00000</td>\n",
       "      <td>0.782223</td>\n",
       "      <td>0.263837</td>\n",
       "      <td>0.263837</td>\n",
       "      <td>0.00000</td>\n",
       "      <td>0.0</td>\n",
       "    </tr>\n",
       "    <tr>\n",
       "      <th>1</th>\n",
       "      <td>0.799772</td>\n",
       "      <td>0.000000</td>\n",
       "      <td>0.000000</td>\n",
       "      <td>0.000000</td>\n",
       "      <td>0.000000</td>\n",
       "      <td>0.0</td>\n",
       "      <td>0.000000</td>\n",
       "      <td>0.805299</td>\n",
       "      <td>0.0</td>\n",
       "      <td>0.325642</td>\n",
       "      <td>...</td>\n",
       "      <td>0.000000</td>\n",
       "      <td>0.00000</td>\n",
       "      <td>0.0</td>\n",
       "      <td>0.000000</td>\n",
       "      <td>0.00000</td>\n",
       "      <td>0.402028</td>\n",
       "      <td>0.000000</td>\n",
       "      <td>0.000000</td>\n",
       "      <td>0.00000</td>\n",
       "      <td>0.0</td>\n",
       "    </tr>\n",
       "    <tr>\n",
       "      <th>2</th>\n",
       "      <td>0.158922</td>\n",
       "      <td>0.000000</td>\n",
       "      <td>0.000000</td>\n",
       "      <td>0.898795</td>\n",
       "      <td>0.602350</td>\n",
       "      <td>0.0</td>\n",
       "      <td>1.000000</td>\n",
       "      <td>0.000000</td>\n",
       "      <td>0.0</td>\n",
       "      <td>0.000000</td>\n",
       "      <td>...</td>\n",
       "      <td>0.000000</td>\n",
       "      <td>0.00000</td>\n",
       "      <td>0.0</td>\n",
       "      <td>0.468130</td>\n",
       "      <td>0.00000</td>\n",
       "      <td>0.203167</td>\n",
       "      <td>0.602350</td>\n",
       "      <td>0.602350</td>\n",
       "      <td>0.00000</td>\n",
       "      <td>0.0</td>\n",
       "    </tr>\n",
       "    <tr>\n",
       "      <th>3</th>\n",
       "      <td>0.142838</td>\n",
       "      <td>0.000000</td>\n",
       "      <td>0.898795</td>\n",
       "      <td>0.000000</td>\n",
       "      <td>0.541389</td>\n",
       "      <td>0.0</td>\n",
       "      <td>0.898795</td>\n",
       "      <td>0.000000</td>\n",
       "      <td>0.0</td>\n",
       "      <td>0.000000</td>\n",
       "      <td>...</td>\n",
       "      <td>0.144405</td>\n",
       "      <td>0.43837</td>\n",
       "      <td>0.0</td>\n",
       "      <td>0.696614</td>\n",
       "      <td>0.43837</td>\n",
       "      <td>0.182606</td>\n",
       "      <td>0.541389</td>\n",
       "      <td>0.541389</td>\n",
       "      <td>0.43837</td>\n",
       "      <td>0.0</td>\n",
       "    </tr>\n",
       "    <tr>\n",
       "      <th>4</th>\n",
       "      <td>0.263837</td>\n",
       "      <td>0.000000</td>\n",
       "      <td>0.602350</td>\n",
       "      <td>0.541389</td>\n",
       "      <td>0.000000</td>\n",
       "      <td>0.0</td>\n",
       "      <td>0.602350</td>\n",
       "      <td>0.000000</td>\n",
       "      <td>0.0</td>\n",
       "      <td>0.000000</td>\n",
       "      <td>...</td>\n",
       "      <td>0.000000</td>\n",
       "      <td>0.00000</td>\n",
       "      <td>0.0</td>\n",
       "      <td>0.777173</td>\n",
       "      <td>0.00000</td>\n",
       "      <td>0.337291</td>\n",
       "      <td>1.000000</td>\n",
       "      <td>1.000000</td>\n",
       "      <td>0.00000</td>\n",
       "      <td>0.0</td>\n",
       "    </tr>\n",
       "  </tbody>\n",
       "</table>\n",
       "<p>5 rows × 10329 columns</p>\n",
       "</div>"
      ],
      "text/plain": [
       "      0         1         2         3         4      5         6      \\\n",
       "0  0.000000  0.799772  0.158922  0.142838  0.263837    0.0  0.158922   \n",
       "1  0.799772  0.000000  0.000000  0.000000  0.000000    0.0  0.000000   \n",
       "2  0.158922  0.000000  0.000000  0.898795  0.602350    0.0  1.000000   \n",
       "3  0.142838  0.000000  0.898795  0.000000  0.541389    0.0  0.898795   \n",
       "4  0.263837  0.000000  0.602350  0.541389  0.000000    0.0  0.602350   \n",
       "\n",
       "      7      8         9      ...     10319    10320  10321     10322  \\\n",
       "0  0.644056    0.0  0.260439  ...  0.000000  0.00000    0.0  0.205047   \n",
       "1  0.805299    0.0  0.325642  ...  0.000000  0.00000    0.0  0.000000   \n",
       "2  0.000000    0.0  0.000000  ...  0.000000  0.00000    0.0  0.468130   \n",
       "3  0.000000    0.0  0.000000  ...  0.144405  0.43837    0.0  0.696614   \n",
       "4  0.000000    0.0  0.000000  ...  0.000000  0.00000    0.0  0.777173   \n",
       "\n",
       "     10323     10324     10325     10326    10327  10328  \n",
       "0  0.00000  0.782223  0.263837  0.263837  0.00000    0.0  \n",
       "1  0.00000  0.402028  0.000000  0.000000  0.00000    0.0  \n",
       "2  0.00000  0.203167  0.602350  0.602350  0.00000    0.0  \n",
       "3  0.43837  0.182606  0.541389  0.541389  0.43837    0.0  \n",
       "4  0.00000  0.337291  1.000000  1.000000  0.00000    0.0  \n",
       "\n",
       "[5 rows x 10329 columns]"
      ]
     },
     "execution_count": 26,
     "metadata": {},
     "output_type": "execute_result"
    }
   ],
   "source": [
    "# Calculating similarity between movies using cosine similarity\n",
    "\n",
    "from sklearn.metrics.pairwise import cosine_similarity\n",
    "\n",
    "movie_similarity = cosine_similarity(tf_matrix) \n",
    "\n",
    "# Changing similarity of movie with itself from 1 to 0\n",
    "np.fill_diagonal(movie_similarity, 0)     \n",
    "\n",
    "# Creating a dataframe\n",
    "movie_similarity_df = pd.DataFrame(movie_similarity)\n",
    "movie_similarity_df.head()"
   ]
  },
  {
   "cell_type": "code",
   "execution_count": 27,
   "id": "dce6cdcd",
   "metadata": {},
   "outputs": [
    {
     "data": {
      "text/plain": [
       "(10329, 10329)"
      ]
     },
     "execution_count": 27,
     "metadata": {},
     "output_type": "execute_result"
    }
   ],
   "source": [
    "movie_similarity.shape"
   ]
  },
  {
   "cell_type": "code",
   "execution_count": 28,
   "id": "73f6284b",
   "metadata": {},
   "outputs": [],
   "source": [
    "def content_based_recommendation(movie, numrecomm):\n",
    "    t = movie\n",
    "    N = int(numrecomm)\n",
    "\n",
    "    global movies\n",
    "    \n",
    "    # Fetch index of user input movie from movies dataframe\n",
    "    index_t = movies[movies['title']==t].index.tolist()  \n",
    "    index_t = index_t[0] \n",
    "\n",
    "    # Adding similarity from movie_similarity using index\n",
    "    movies['similarity'] = movie_similarity_df.iloc[index_t]\n",
    "\n",
    "    Movieset_Content_1 = movies.copy().sort_values('similarity', ascending=False)\n",
    "    movies= movies.drop(columns='similarity')\n",
    "\n",
    "    Movieset_Content_1['Sl.No'] = range(1, len(Movieset_Content_1)+1)\n",
    "    Movieset_Content_1 = Movieset_Content_1[['Sl.No','title']].rename(columns={'title':'Movie Title'})\n",
    "\n",
    "    # Output dataframe that filters for number of recommendations that the user wants\n",
    "    Movieset_Content = Movieset_Content_1[Movieset_Content_1['Sl.No']<=N]\n",
    "\n",
    "    # Removing the default integer index while printing the dataframe\n",
    "    return tabulate(Movieset_Content, headers='keys', showindex = 'never', tablefmt = 'simple_outline')"
   ]
  },
  {
   "cell_type": "markdown",
   "id": "5693e36f",
   "metadata": {},
   "source": [
    "### 3. Collaborative-based recommender system"
   ]
  },
  {
   "cell_type": "code",
   "execution_count": 29,
   "id": "0e0adfab",
   "metadata": {},
   "outputs": [],
   "source": [
    "def collaborative_based_recommendation(userid, numrecomm, simusers):\n",
    "    u = userid\n",
    "    N = numrecomm\n",
    "    k = simusers\n",
    "\n",
    "\n",
    "    # Create the dataframe containing list of movies rated by the target user\n",
    "\n",
    "    Collab_df = MovieRatings[['userId','movieId','title','year','rating']]\n",
    "    \n",
    "    user_rated = Collab_df[Collab_df['userId']==u]\n",
    "    # user_rated.head()\n",
    "\n",
    "\n",
    "    # Find peers who have watched the same movies as the target user \n",
    "    peers = Collab_df[Collab_df['movieId'].isin(user_rated['movieId'])]\n",
    "\n",
    "    # Excluding target user from peer list\n",
    "    peers = peers[peers['userId'] != u]\n",
    "    # print('There are ',peers['userId'].nunique(), ' users who have watched the same movies as the target user')\n",
    "   \n",
    "    # Grouping by userId to create sub dataframes for each user\n",
    "    # This will help in quantifying the number of movies that are common between each peer and the target user\n",
    "    # Assumption is: Higher the number of common movies rated, more similar are the users \n",
    "\n",
    "    peers_grp = peers.groupby('userId')\n",
    "  \n",
    "\n",
    "    # Create Pearson Coefficient of Correlation to find users similar to the target user based on ratings given\n",
    "    \n",
    "    pearson_coef={}\n",
    "\n",
    "    for name, peer in peers_grp:\n",
    "\n",
    "        # Fetch only those target user movies that the peer has watched\n",
    "        user_peer_watched = user_rated[user_rated['movieId'].isin(peer['movieId'])]\n",
    "\n",
    "        # Sort by movie id\n",
    "        user_peer_watched = user_peer_watched.sort_values('movieId')\n",
    "        peer = peer.sort_values('movieId')\n",
    "\n",
    "        # Add ratings to a list\n",
    "        user_rating_list = user_peer_watched['rating'].tolist()\n",
    "        peer_rating_list = peer['rating'].tolist()\n",
    "\n",
    "        # Calculate Pearson's coefficient\n",
    "        if (len(user_rating_list)>1) & (len(user_rating_list)>1):\n",
    "            pearson_coef[name] = stats.pearsonr(user_rating_list, peer_rating_list).statistic\n",
    "\n",
    "\n",
    "    # Convert dict to dataframe\n",
    "    pearson_coef_df = pd.DataFrame.from_dict(pearson_coef, orient='index').fillna(0).reset_index().rename(columns={'index':'userId', 0:'SimilarityCoef'})\n",
    "\n",
    "    # Filter the above to get list of \"K\" similar users\n",
    "    pearson_coef_df = pearson_coef_df.sort_values('SimilarityCoef', ascending = False)[:k]\n",
    "\n",
    "    # Fetching movie and ratings info for list of similar peers\n",
    "    similar_peers = Collab_df[Collab_df['userId'].isin(pearson_coef_df['userId'])]\n",
    "\n",
    "    # Exclude movies that are already watched by the target user\n",
    "    similar_peers = similar_peers[~similar_peers['movieId'].isin(user_rated['movieId'])]\n",
    "\n",
    "    # Adding Similarity Coefficient\n",
    "    similar_peers = similar_peers.merge(pearson_coef_df, on='userId')\n",
    "\n",
    "\n",
    "    # The similar users may have rated common movies. In order to determine which are the top movies to recommend,\n",
    "    # we take weighted average of ratings using SimilarityCoef as the weight\n",
    "\n",
    "    similar_peers['wt_rating'] = similar_peers['rating']*similar_peers['SimilarityCoef']\n",
    "\n",
    "\n",
    "    # For each movie, calculate the weighted average rating across all similar users\n",
    "    peer_recommended_movies = pd.DataFrame(similar_peers.groupby(['title','year'])[['wt_rating','SimilarityCoef']].sum()).reset_index().rename(columns={'wt_rating':'WeightedSum','SimilarityCoef':'SumOfWeights'})\n",
    "    peer_recommended_movies['WeightedAvgScore'] = peer_recommended_movies['WeightedSum']/ peer_recommended_movies['SumOfWeights']\n",
    "\n",
    "    # Sorting in descending order of weighted average rating\n",
    "    peer_recommended_movies = peer_recommended_movies.sort_values('WeightedAvgScore', ascending=False)\n",
    "    peer_recommended_movies['S.No'] = range(1,len(peer_recommended_movies)+1)\n",
    "\n",
    "    # Filter for top N peer recommended movies \n",
    "    Movieset_Collaborative = peer_recommended_movies[peer_recommended_movies['S.No']<=N]\n",
    "    Movieset_Collaborative = Movieset_Collaborative[['S.No','title']].rename(columns={'title':'Movie Title'})\n",
    "\n",
    "    return tabulate(Movieset_Collaborative, headers='keys', showindex = 'never', tablefmt = 'simple_outline')"
   ]
  },
  {
   "cell_type": "markdown",
   "id": "9cc8f2ee",
   "metadata": {},
   "source": [
    "## Creating a GUI interface using Python library Tkinter "
   ]
  },
  {
   "cell_type": "markdown",
   "id": "30b5ee0d",
   "metadata": {},
   "source": [
    "### Import required libraries"
   ]
  },
  {
   "cell_type": "code",
   "execution_count": 30,
   "id": "9213a113",
   "metadata": {},
   "outputs": [],
   "source": [
    "import tkinter as tk\n",
    "from tkinter import ttk"
   ]
  },
  {
   "cell_type": "markdown",
   "id": "d47e58c6",
   "metadata": {},
   "source": [
    "### Define functions that pass input from GUI to each recommendation module"
   ]
  },
  {
   "cell_type": "code",
   "execution_count": 31,
   "id": "f5148ae3",
   "metadata": {},
   "outputs": [],
   "source": [
    "def popularity():\n",
    "\n",
    "    g = genre_entry.get()  \n",
    "    t = int(minreviews_entry.get())\n",
    "    N = int(pop_numrecomm_entry.get())\n",
    "    \n",
    "    # Call the Popularity-based recommender\n",
    "    o = popularity_based_recommendation(g, t, N)\n",
    "    \n",
    "    # Print the output    \n",
    "    output_text.insert(tk.END, f\"\\n\\nPopularity-Based Recommendation for genre: {g} \\n\\n\")\n",
    "    output_text.insert(tk.END, o)\n",
    "\n",
    "def content():\n",
    "    t = movie_combobox.get()  # Get the movie name from the entry widget\n",
    "    N = int(cont_numrecomm_entry.get())\n",
    "\n",
    "    # Call the Content-based recommender\n",
    "    o = content_based_recommendation(t, N)\n",
    "    \n",
    "    # Print the output    \n",
    "    output_text.insert(tk.END, f\"\\n\\nRecommended movies based on your choice of {t}: \\n\\n\") \n",
    "    output_text.insert(tk.END, o)\n",
    "\n",
    "\n",
    "def collaborative():\n",
    "\n",
    "    u = int(user_entry.get())  \n",
    "    N = int(coll_numrecomm_entry.get())\n",
    "    k = int(simusers_entry.get())\n",
    "    \n",
    "    # Call the Collaborative-based recommender\n",
    "    o = collaborative_based_recommendation(u, N, k)\n",
    "    \n",
    "    # Print the output  \n",
    "    output_text.insert(tk.END, f\"\\n\\nCollaborative-Based Recommendation for user: {u} \\n\\n\")\n",
    "    output_text.insert(tk.END, o)"
   ]
  },
  {
   "cell_type": "markdown",
   "id": "f3edf88b",
   "metadata": {},
   "source": [
    "### Creating the GUI"
   ]
  },
  {
   "cell_type": "code",
   "execution_count": 34,
   "id": "c664088f",
   "metadata": {},
   "outputs": [],
   "source": [
    "def main():\n",
    "    root = tk.Tk()\n",
    "    root.title(\"Movie Recommendation System\")\n",
    "    \n",
    "    \n",
    "    # Define custom style\n",
    "    \n",
    "    # Filter dropdown style\n",
    "    style = ttk.Style()\n",
    "    style.theme_create(\"custom_style\", parent=\"alt\", settings={\n",
    "        \"TCombobox\": {\n",
    "            \"configure\": {\"selectbackground\": \"grey\", \"selectforeground\": \"black\", \"width\": 50},\n",
    "        },\n",
    "        \"TButton\": {\n",
    "            \"background\": \"white\",\n",
    "            \"borderwidth\": 2\n",
    "        }\n",
    "    })\n",
    "    style.theme_use(\"custom_style\")\n",
    "    \n",
    "    # Button style\n",
    "    style.configure('TButton', background = 'blue', foreground = 'white', width = 12, borderwidth=1, focusthickness=3, focuscolor='none')\n",
    "    style.map('TButton', background=[('active','white')], foreground=[('active','black')])\n",
    "    \n",
    "\n",
    "\n",
    "\n",
    "    # Create a Notebook (tabbed interface)\n",
    "    notebook = ttk.Notebook(root)\n",
    "    notebook.pack(fill=tk.BOTH, expand=True)\n",
    "    \n",
    "    \n",
    "    # --------------------------------------------- POPULARITY-BASED ----------------------------------------- #\n",
    "    \n",
    "    popularity_based_tab = ttk.Frame(notebook)\n",
    "    notebook.add(popularity_based_tab, text='Popularity-Based')\n",
    "\n",
    "    \n",
    "    # Inputs for popularity-based recommendation\n",
    "    \n",
    "    # Title\n",
    "    ttk.Label(popularity_based_tab).pack()\n",
    "    popularity_label = ttk.Label(popularity_based_tab, text=\"Popularity-Based Recommendation\", font=(\"TkDefaultFont\", 12, \"bold\"))\n",
    "    popularity_label.pack()  \n",
    "    ttk.Label(popularity_based_tab).pack()\n",
    "    \n",
    "    # Genre\n",
    "    genre_entry_label = ttk.Label(popularity_based_tab, text=\"Enter Genre:\")\n",
    "    genre_entry_label.pack()\n",
    "    \n",
    "    global genre_entry\n",
    "    genre_entry = ttk.Combobox(popularity_based_tab, values=MovieRatings_Genre['Genre'].unique().tolist(), state=\"readonly\")\n",
    "    genre_entry.pack()\n",
    "       \n",
    "    # Minimum reviews threshold\n",
    "    minreviews_entry_label = ttk.Label(popularity_based_tab, text=\"Enter minimum reviews:\")\n",
    "    minreviews_entry_label.pack()\n",
    "\n",
    "    global minreviews_entry\n",
    "    minreviews_entry = ttk.Entry(popularity_based_tab)\n",
    "    minreviews_entry.pack()\n",
    "\n",
    "    # Number of recommendations\n",
    "    pop_numrecomm_entry_label = ttk.Label(popularity_based_tab, text=\"Enter number of recommendations you would like to see:\")\n",
    "    pop_numrecomm_entry_label.pack()\n",
    "\n",
    "    global pop_numrecomm_entry\n",
    "    pop_numrecomm_entry = ttk.Entry(popularity_based_tab)\n",
    "    pop_numrecomm_entry.pack()\n",
    "    \n",
    "    # Recommend button       \n",
    "    ttk.Label(popularity_based_tab).pack()\n",
    "    popularity_button = ttk.Button(popularity_based_tab, text=\"Recommend\", command=popularity)\n",
    "    popularity_button.pack()\n",
    "    ttk.Label(popularity_based_tab).pack() # Add padding\n",
    "    \n",
    "    \n",
    "\n",
    "    # --------------------------------------------- CONTENT-BASED ----------------------------------------- #\n",
    "    \n",
    "    content_based_tab = ttk.Frame(notebook)\n",
    "    notebook.add(content_based_tab, text='Content-Based')\n",
    "\n",
    "    # Inputs for content-based recommendation\n",
    "    \n",
    "    # Title\n",
    "    ttk.Label(content_based_tab).pack()\n",
    "    content_label = ttk.Label(content_based_tab, text=\"Content-Based Recommendation\", font=(\"TkDefaultFont\", 12, \"bold\"))\n",
    "    content_label.pack()\n",
    "    ttk.Label(content_based_tab).pack()\n",
    "    \n",
    "    # Movie name\n",
    "    movie_entry_label = ttk.Label(content_based_tab, text=\"Select the reference Movie Title based on which recommendations are to be made:\")\n",
    "    movie_entry_label.pack()\n",
    "\n",
    "    global movie_combobox\n",
    "    movie_combobox = ttk.Combobox(content_based_tab, values=movies['title'].tolist(), state=\"readonly\", width=50)\n",
    "    movie_combobox.pack()\n",
    "    \n",
    "    cont_numrecomm_entry_label = ttk.Label(content_based_tab, text=\"Enter number of recommendations you would like to see:\")\n",
    "    cont_numrecomm_entry_label.pack()\n",
    "    \n",
    "    # Number of recommendations\n",
    "    global cont_numrecomm_entry\n",
    "    cont_numrecomm_entry = ttk.Entry(content_based_tab)\n",
    "    cont_numrecomm_entry.pack()\n",
    "    \n",
    "    # Recommend button     \n",
    "    ttk.Label(content_based_tab).pack()\n",
    "    content_button = ttk.Button(content_based_tab, text=\"Recommend\", command=content)\n",
    "    content_button.pack()\n",
    "    ttk.Label(content_based_tab).pack()\n",
    "\n",
    "    \n",
    "    \n",
    "    # --------------------------------------------- COLLABORATIVE-BASED ----------------------------------------- #\n",
    "    \n",
    "    collaborative_filtering_tab = ttk.Frame(notebook)\n",
    "    notebook.add(collaborative_filtering_tab, text='Collaborative Filtering')\n",
    "\n",
    "    # Inputs for collaborative filtering recommendation\n",
    "        \n",
    "    # Title\n",
    "    ttk.Label(collaborative_filtering_tab).pack()\n",
    "    collaborative_label = ttk.Label(collaborative_filtering_tab, text=\"Collaborative Filtering Recommendation\", font=(\"TkDefaultFont\", 12, \"bold\"))\n",
    "    collaborative_label.pack()\n",
    "    ttk.Label(collaborative_filtering_tab).pack()\n",
    "\n",
    "    # Target user\n",
    "    user_entry_label = ttk.Label(collaborative_filtering_tab, text=\"Enter target User ID (between 1 and 668):\")\n",
    "    user_entry_label.pack()\n",
    "\n",
    "    global user_entry\n",
    "    user_entry = ttk.Entry(collaborative_filtering_tab)\n",
    "    user_entry.pack()\n",
    "    \n",
    "    # Number of recommendations\n",
    "    coll_numrecomm_entry_label = ttk.Label(collaborative_filtering_tab, text=\"Enter number of recommendations you would like to see:\")\n",
    "    coll_numrecomm_entry_label.pack()\n",
    "\n",
    "    global coll_numrecomm_entry\n",
    "    coll_numrecomm_entry = ttk.Entry(collaborative_filtering_tab)\n",
    "    coll_numrecomm_entry.pack()\n",
    "    \n",
    "    # Similar users threshold\n",
    "    simusers_entry_label = ttk.Label(collaborative_filtering_tab, text=\"Enter the threshold for similar users based on whom recommendations are to be made:\")\n",
    "    simusers_entry_label.pack()\n",
    "\n",
    "    global simusers_entry\n",
    "    simusers_entry = ttk.Entry(collaborative_filtering_tab)\n",
    "    simusers_entry.pack()    \n",
    "\n",
    "    # Recommend button \n",
    "    ttk.Label(collaborative_filtering_tab).pack()\n",
    "    collaborative_button = ttk.Button(collaborative_filtering_tab, text=\"Recommend\", command=collaborative)\n",
    "    collaborative_button.pack()\n",
    "    ttk.Label(collaborative_filtering_tab).pack()\n",
    "\n",
    "    \n",
    "    # Create output console\n",
    "    global output_text\n",
    "    output_text = tk.Text(root, height=40, width=150)\n",
    "    output_text.pack()\n",
    "    \n",
    "    # Run the application\n",
    "    root.mainloop()"
   ]
  },
  {
   "cell_type": "markdown",
   "id": "73d59a30",
   "metadata": {},
   "source": [
    "### Open Movie Recommender"
   ]
  },
  {
   "cell_type": "code",
   "execution_count": 35,
   "id": "0784c120",
   "metadata": {},
   "outputs": [],
   "source": [
    "if __name__ == \"__main__\":\n",
    "    main()"
   ]
  },
  {
   "cell_type": "markdown",
   "id": "599e8070",
   "metadata": {},
   "source": [
    "## End of Assignment"
   ]
  }
 ],
 "metadata": {
  "kernelspec": {
   "display_name": "Python 3 (ipykernel)",
   "language": "python",
   "name": "python3"
  },
  "language_info": {
   "codemirror_mode": {
    "name": "ipython",
    "version": 3
   },
   "file_extension": ".py",
   "mimetype": "text/x-python",
   "name": "python",
   "nbconvert_exporter": "python",
   "pygments_lexer": "ipython3",
   "version": "3.11.5"
  }
 },
 "nbformat": 4,
 "nbformat_minor": 5
}
